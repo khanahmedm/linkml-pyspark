{
 "cells": [
  {
   "cell_type": "code",
   "execution_count": 1,
   "id": "5251c234-b022-44aa-9e39-c5a28ae3e0dc",
   "metadata": {},
   "outputs": [
    {
     "name": "stdout",
     "output_type": "stream",
     "text": [
      "Requirement already satisfied: delta-spark in /usr/local/lib/python3.10/dist-packages (2.4.0)\n",
      "Requirement already satisfied: pyspark<3.5.0,>=3.4.0 in /usr/local/lib/python3.10/dist-packages (from delta-spark) (3.4.1)\n",
      "Requirement already satisfied: importlib-metadata>=1.0.0 in /usr/local/lib/python3.10/dist-packages (from delta-spark) (8.7.0)\n",
      "Requirement already satisfied: zipp>=3.20 in /usr/local/lib/python3.10/dist-packages (from importlib-metadata>=1.0.0->delta-spark) (3.21.0)\n",
      "Requirement already satisfied: py4j==0.10.9.7 in /usr/local/lib/python3.10/dist-packages (from pyspark<3.5.0,>=3.4.0->delta-spark) (0.10.9.7)\n",
      "\u001b[33mWARNING: Running pip as the 'root' user can result in broken permissions and conflicting behaviour with the system package manager. It is recommended to use a virtual environment instead: https://pip.pypa.io/warnings/venv\u001b[0m\u001b[33m\n",
      "\u001b[0m"
     ]
    }
   ],
   "source": [
    "!pip install delta-spark"
   ]
  },
  {
   "cell_type": "code",
   "execution_count": 2,
   "id": "91239566-88d7-4149-991a-dc11161a11ca",
   "metadata": {},
   "outputs": [],
   "source": [
    "from delta import configure_spark_with_delta_pip\n",
    "from linkml_runtime.utils.schemaview import SchemaView\n",
    "from pyspark.sql.types import StructType, StructField, StringType, FloatType\n",
    "from pyspark.sql import SparkSession\n",
    "import os\n"
   ]
  },
  {
   "cell_type": "code",
   "execution_count": 3,
   "id": "7ba5686b-fb2c-4b5d-ab78-7117f364e2a2",
   "metadata": {},
   "outputs": [
    {
     "name": "stdout",
     "output_type": "stream",
     "text": [
      ":: loading settings :: url = jar:file:/opt/spark-3.4.1-bin-hadoop3/jars/ivy-2.5.1.jar!/org/apache/ivy/core/settings/ivysettings.xml\n"
     ]
    },
    {
     "name": "stderr",
     "output_type": "stream",
     "text": [
      "Ivy Default Cache set to: /root/.ivy2/cache\n",
      "The jars for the packages stored in: /root/.ivy2/jars\n",
      "io.delta#delta-core_2.12 added as a dependency\n",
      ":: resolving dependencies :: org.apache.spark#spark-submit-parent-cf3a09fb-f1da-42e8-9a92-72eb8cfe7487;1.0\n",
      "\tconfs: [default]\n",
      "\tfound io.delta#delta-core_2.12;2.4.0 in central\n",
      "\tfound io.delta#delta-storage;2.4.0 in central\n",
      "\tfound org.antlr#antlr4-runtime;4.9.3 in central\n",
      ":: resolution report :: resolve 303ms :: artifacts dl 27ms\n",
      "\t:: modules in use:\n",
      "\tio.delta#delta-core_2.12;2.4.0 from central in [default]\n",
      "\tio.delta#delta-storage;2.4.0 from central in [default]\n",
      "\torg.antlr#antlr4-runtime;4.9.3 from central in [default]\n",
      "\t---------------------------------------------------------------------\n",
      "\t|                  |            modules            ||   artifacts   |\n",
      "\t|       conf       | number| search|dwnlded|evicted|| number|dwnlded|\n",
      "\t---------------------------------------------------------------------\n",
      "\t|      default     |   3   |   0   |   0   |   0   ||   3   |   0   |\n",
      "\t---------------------------------------------------------------------\n",
      ":: retrieving :: org.apache.spark#spark-submit-parent-cf3a09fb-f1da-42e8-9a92-72eb8cfe7487\n",
      "\tconfs: [default]\n",
      "\t0 artifacts copied, 3 already retrieved (0kB/9ms)\n",
      "25/05/18 16:59:51 WARN NativeCodeLoader: Unable to load native-hadoop library for your platform... using builtin-java classes where applicable\n",
      "Setting default log level to \"WARN\".\n",
      "To adjust logging level use sc.setLogLevel(newLevel). For SparkR, use setLogLevel(newLevel).\n",
      "25/05/18 17:00:05 WARN package: Truncated the string representation of a plan since it was too large. This behavior can be adjusted by setting 'spark.sql.debug.maxToStringFields'.\n",
      "----------------------------------------                                        \n",
      "Exception occurred during processing of request from ('127.0.0.1', 34528)\n",
      "Traceback (most recent call last):\n",
      "  File \"/usr/lib/python3.10/socketserver.py\", line 316, in _handle_request_noblock\n",
      "    self.process_request(request, client_address)\n",
      "  File \"/usr/lib/python3.10/socketserver.py\", line 347, in process_request\n",
      "    self.finish_request(request, client_address)\n",
      "  File \"/usr/lib/python3.10/socketserver.py\", line 360, in finish_request\n",
      "    self.RequestHandlerClass(request, client_address, self)\n",
      "  File \"/usr/lib/python3.10/socketserver.py\", line 747, in __init__\n",
      "    self.handle()\n",
      "  File \"/usr/local/lib/python3.10/dist-packages/pyspark/accumulators.py\", line 281, in handle\n",
      "    poll(accum_updates)\n",
      "  File \"/usr/local/lib/python3.10/dist-packages/pyspark/accumulators.py\", line 253, in poll\n",
      "    if func():\n",
      "  File \"/usr/local/lib/python3.10/dist-packages/pyspark/accumulators.py\", line 257, in accum_updates\n",
      "    num_updates = read_int(self.rfile)\n",
      "  File \"/usr/local/lib/python3.10/dist-packages/pyspark/serializers.py\", line 596, in read_int\n",
      "    raise EOFError\n",
      "EOFError\n",
      "----------------------------------------\n"
     ]
    }
   ],
   "source": [
    "\n",
    "# Parse the LinkML schema\n",
    "sv = SchemaView(\"schema.yaml\")\n",
    "product_class = sv.get_class(\"Product\")\n",
    "slots = sv.class_slots(\"Product\")\n",
    "\n",
    "def map_range_to_spark_type(slot_range):\n",
    "    if slot_range == \"string\":\n",
    "        return StringType()\n",
    "    elif slot_range == \"float\":\n",
    "        return FloatType()\n",
    "    else:\n",
    "        return StringType()\n",
    "\n",
    "fields = [\n",
    "    StructField(slot.name, map_range_to_spark_type(slot.range), True)\n",
    "    for slot in [sv.induced_slot(s, \"Product\") for s in slots]\n",
    "]\n",
    "product_schema = StructType(fields)\n",
    "\n",
    "# Initialize Spark\n",
    "\n",
    "\n",
    "builder = SparkSession.builder \\\n",
    "    .appName(\"LinkML to Delta\") \\\n",
    "    .config(\"spark.sql.extensions\", \"io.delta.sql.DeltaSparkSessionExtension\") \\\n",
    "    .config(\"spark.sql.catalog.spark_catalog\", \"org.apache.spark.sql.delta.catalog.DeltaCatalog\")\n",
    "\n",
    "spark = configure_spark_with_delta_pip(builder).getOrCreate()\n",
    "\n",
    "# Sample data\n",
    "data = [(\"p001\", \"Widget\", 19.99)]\n",
    "df = spark.createDataFrame(data, schema=product_schema)\n",
    "\n",
    "# Write Delta table\n",
    "output_path = \"/tmp/delta/products\"\n",
    "os.makedirs(output_path, exist_ok=True)\n",
    "df.write.format(\"delta\").mode(\"overwrite\").save(output_path)\n"
   ]
  },
  {
   "cell_type": "code",
   "execution_count": 4,
   "id": "edb8a24b-65ad-4e98-8f7e-dbdc9ed9c446",
   "metadata": {},
   "outputs": [
    {
     "name": "stdout",
     "output_type": "stream",
     "text": [
      "root\n",
      " |-- product_id: string (nullable = true)\n",
      " |-- name: string (nullable = true)\n",
      " |-- price: float (nullable = true)\n",
      "\n"
     ]
    }
   ],
   "source": [
    "df_read = spark.read.format(\"delta\").load(\"/tmp/delta/products\")\n",
    "df_read.printSchema()\n"
   ]
  },
  {
   "cell_type": "code",
   "execution_count": 5,
   "id": "9844d02d-70a1-484a-9d64-2ee3dbb9e5df",
   "metadata": {},
   "outputs": [
    {
     "name": "stderr",
     "output_type": "stream",
     "text": [
      "                                                                                "
     ]
    },
    {
     "name": "stdout",
     "output_type": "stream",
     "text": [
      "+----------+------+-----+\n",
      "|product_id|  name|price|\n",
      "+----------+------+-----+\n",
      "|      p001|Widget|19.99|\n",
      "+----------+------+-----+\n",
      "\n"
     ]
    }
   ],
   "source": [
    "df_read.show()\n"
   ]
  },
  {
   "cell_type": "code",
   "execution_count": 6,
   "id": "a5659f62-86d9-418d-9e38-4e1d42ebdbde",
   "metadata": {},
   "outputs": [
    {
     "name": "stderr",
     "output_type": "stream",
     "text": [
      "                                                                                "
     ]
    }
   ],
   "source": [
    "new_data = [(\"p002\", \"Gadget\", 29.99)]\n",
    "df_new = spark.createDataFrame(new_data, schema=product_schema)\n",
    "\n",
    "# Append to Delta table\n",
    "df_new.write.format(\"delta\").mode(\"append\").save(\"/tmp/delta/products\")\n"
   ]
  },
  {
   "cell_type": "code",
   "execution_count": 7,
   "id": "9847a3b9-1968-483a-92f2-c0d8ecbc3b21",
   "metadata": {},
   "outputs": [
    {
     "name": "stderr",
     "output_type": "stream",
     "text": [
      "[Stage 33:================================================>       (43 + 2) / 50]"
     ]
    },
    {
     "name": "stdout",
     "output_type": "stream",
     "text": [
      "+----------+------+-----+\n",
      "|product_id|  name|price|\n",
      "+----------+------+-----+\n",
      "|      p001|Widget|19.99|\n",
      "+----------+------+-----+\n",
      "\n"
     ]
    },
    {
     "name": "stderr",
     "output_type": "stream",
     "text": [
      "                                                                                "
     ]
    }
   ],
   "source": [
    "# Show version 0 (initial write)\n",
    "df_v0 = spark.read.format(\"delta\").option(\"versionAsOf\", 0).load(\"/tmp/delta/products\")\n",
    "df_v0.show()\n"
   ]
  },
  {
   "cell_type": "code",
   "execution_count": 8,
   "id": "89172f91-f789-4b06-bad1-3fdafedb28a4",
   "metadata": {},
   "outputs": [
    {
     "name": "stderr",
     "output_type": "stream",
     "text": [
      "[Stage 39:=====================================================>  (48 + 2) / 50]"
     ]
    },
    {
     "name": "stdout",
     "output_type": "stream",
     "text": [
      "+----------+------+-----+\n",
      "|product_id|  name|price|\n",
      "+----------+------+-----+\n",
      "|      p001|Widget|19.99|\n",
      "|      p002|Gadget|29.99|\n",
      "+----------+------+-----+\n",
      "\n"
     ]
    },
    {
     "name": "stderr",
     "output_type": "stream",
     "text": [
      "                                                                                "
     ]
    }
   ],
   "source": [
    "df_all = spark.read.format(\"delta\").load(\"/tmp/delta/products\")\n",
    "df_all.show()\n"
   ]
  },
  {
   "cell_type": "code",
   "execution_count": null,
   "id": "ddf7f3d6-00a0-49c2-a919-9c4eb96c46cf",
   "metadata": {},
   "outputs": [],
   "source": []
  },
  {
   "cell_type": "code",
   "execution_count": 19,
   "id": "845b65fd-29da-4634-8106-be78bcc0ab47",
   "metadata": {},
   "outputs": [
    {
     "name": "stderr",
     "output_type": "stream",
     "text": [
      "                                                                                "
     ]
    }
   ],
   "source": [
    "# Parse the LinkML schema\n",
    "sv = SchemaView(\"cluster-schema.yaml\")\n",
    "cluster_class = sv.get_class(\"Cluster\")\n",
    "slots = sv.class_slots(\"Cluster\")\n",
    "\n",
    "def map_range_to_spark_type(slot_range):\n",
    "    if slot_range == \"string\":\n",
    "        return StringType()\n",
    "    elif slot_range == \"float\":\n",
    "        return FloatType()\n",
    "    else:\n",
    "        return StringType()\n",
    "\n",
    "fields = [\n",
    "    StructField(slot.name, map_range_to_spark_type(slot.range), True)\n",
    "    for slot in [sv.induced_slot(s, \"Cluster\") for s in slots]\n",
    "]\n",
    "cluster_schema = StructType(fields)\n",
    "\n",
    "# Initialize Spark\n",
    "\n",
    "\n",
    "builder = SparkSession.builder \\\n",
    "    .appName(\"LinkML to Delta\") \\\n",
    "    .config(\"spark.sql.extensions\", \"io.delta.sql.DeltaSparkSessionExtension\") \\\n",
    "    .config(\"spark.sql.catalog.spark_catalog\", \"org.apache.spark.sql.delta.catalog.DeltaCatalog\")\n",
    "\n",
    "spark = configure_spark_with_delta_pip(builder).getOrCreate()\n",
    "\n",
    "# Sample data\n",
    "data = [(\"550e8400-e29b-41d4-a716-446655440000\", \"First cluster for test dataset\", \"prot-001\")]\n",
    "\n",
    "# Create DataFrame\n",
    "df = spark.createDataFrame(data, schema=cluster_schema)\n",
    "\n",
    "# Write Delta table\n",
    "output_path = \"/tmp/delta/cluster\"\n",
    "os.makedirs(output_path, exist_ok=True)\n",
    "df.write.format(\"delta\").option(\"overwriteSchema\", \"true\").mode(\"overwrite\").save(output_path)\n"
   ]
  },
  {
   "cell_type": "code",
   "execution_count": 20,
   "id": "b9697e9a-3983-43c0-8954-d5f2f57a248d",
   "metadata": {},
   "outputs": [
    {
     "name": "stdout",
     "output_type": "stream",
     "text": [
      "root\n",
      " |-- cluster_id: string (nullable = true)\n",
      " |-- description: string (nullable = true)\n",
      " |-- protocol_id: string (nullable = true)\n",
      "\n"
     ]
    }
   ],
   "source": [
    "df_read = spark.read.format(\"delta\").load(\"/tmp/delta/cluster\")\n",
    "df_read.printSchema()"
   ]
  },
  {
   "cell_type": "code",
   "execution_count": 21,
   "id": "4af62850-e325-4e9e-81d2-1d94677a7216",
   "metadata": {},
   "outputs": [
    {
     "name": "stdout",
     "output_type": "stream",
     "text": [
      "+--------------------+--------------------+-----------+\n",
      "|          cluster_id|         description|protocol_id|\n",
      "+--------------------+--------------------+-----------+\n",
      "|550e8400-e29b-41d...|First cluster for...|   prot-001|\n",
      "+--------------------+--------------------+-----------+\n",
      "\n"
     ]
    }
   ],
   "source": [
    "df_all = spark.read.format(\"delta\").load(\"/tmp/delta/cluster\")\n",
    "df_all.show()"
   ]
  },
  {
   "cell_type": "code",
   "execution_count": 22,
   "id": "7e23c0ef-6137-4b35-928b-93bbf7c4a8ed",
   "metadata": {},
   "outputs": [
    {
     "name": "stderr",
     "output_type": "stream",
     "text": [
      "                                                                                "
     ]
    }
   ],
   "source": [
    "# New record to insert\n",
    "new_data = [(\"123e4567-e89b-12d3-a456-426614174000\", \"Second test cluster\", \"prot-002\")]\n",
    "\n",
    "# Create DataFrame from the new data\n",
    "new_df = spark.createDataFrame(new_data, schema=cluster_schema)\n",
    "\n",
    "# Append to existing Delta table\n",
    "new_df.write.format(\"delta\").mode(\"append\").save(output_path)\n"
   ]
  },
  {
   "cell_type": "code",
   "execution_count": 23,
   "id": "fa7eb48c-374e-4075-a45e-5d5c484a408e",
   "metadata": {},
   "outputs": [
    {
     "name": "stdout",
     "output_type": "stream",
     "text": [
      "+--------------------+--------------------+-----------+\n",
      "|          cluster_id|         description|protocol_id|\n",
      "+--------------------+--------------------+-----------+\n",
      "|550e8400-e29b-41d...|First cluster for...|   prot-001|\n",
      "|123e4567-e89b-12d...| Second test cluster|   prot-002|\n",
      "+--------------------+--------------------+-----------+\n",
      "\n"
     ]
    }
   ],
   "source": [
    "df_all = spark.read.format(\"delta\").load(\"/tmp/delta/cluster\")\n",
    "df_all.show()"
   ]
  },
  {
   "cell_type": "code",
   "execution_count": 24,
   "id": "87b1f869-d305-425c-bd3b-2a8a0750fffc",
   "metadata": {},
   "outputs": [
    {
     "name": "stderr",
     "output_type": "stream",
     "text": [
      "[Stage 138:=================================================>     (45 + 2) / 50]"
     ]
    },
    {
     "name": "stdout",
     "output_type": "stream",
     "text": [
      "+------------------------------------+------------------------------+-----------+\n",
      "|cluster_id                          |description                   |protocol_id|\n",
      "+------------------------------------+------------------------------+-----------+\n",
      "|550e8400-e29b-41d4-a716-446655440000|First cluster for test dataset|prot-001   |\n",
      "+------------------------------------+------------------------------+-----------+\n",
      "\n"
     ]
    },
    {
     "name": "stderr",
     "output_type": "stream",
     "text": [
      "                                                                                "
     ]
    }
   ],
   "source": [
    "df_v_0 = spark.read.format(\"delta\").option(\"versionAsOf\", 0).load(\"/tmp/delta/cluster\")\n",
    "df_v_0.show(truncate=False)\n"
   ]
  },
  {
   "cell_type": "code",
   "execution_count": 25,
   "id": "c7d2f9fe-fdb9-4179-b67a-04c23143a307",
   "metadata": {},
   "outputs": [
    {
     "name": "stdout",
     "output_type": "stream",
     "text": [
      "+------------------------------------+------------------------------+-----------+\n",
      "|cluster_id                          |description                   |protocol_id|\n",
      "+------------------------------------+------------------------------+-----------+\n",
      "|550e8400-e29b-41d4-a716-446655440000|First cluster for test dataset|prot-001   |\n",
      "|123e4567-e89b-12d3-a456-426614174000|Second test cluster           |prot-002   |\n",
      "+------------------------------------+------------------------------+-----------+\n",
      "\n",
      "root\n",
      " |-- cluster_id: string (nullable = true)\n",
      " |-- description: string (nullable = true)\n",
      " |-- protocol_id: string (nullable = true)\n",
      "\n"
     ]
    }
   ],
   "source": [
    "df = spark.read.format(\"delta\").load(\"/tmp/delta/cluster\")\n",
    "df.show(truncate=False)\n",
    "df.printSchema()\n"
   ]
  },
  {
   "cell_type": "code",
   "execution_count": 26,
   "id": "71ee8c8b-46b8-4592-8d53-894bf9cb77fa",
   "metadata": {},
   "outputs": [
    {
     "name": "stdout",
     "output_type": "stream",
     "text": [
      "+-------+-----------------------+---------+--------------------------------------+\n",
      "|version|timestamp              |operation|operationParameters                   |\n",
      "+-------+-----------------------+---------+--------------------------------------+\n",
      "|1      |2025-05-18 17:21:13.957|WRITE    |{mode -> Append, partitionBy -> []}   |\n",
      "|0      |2025-05-18 17:20:59.196|WRITE    |{mode -> Overwrite, partitionBy -> []}|\n",
      "+-------+-----------------------+---------+--------------------------------------+\n",
      "\n"
     ]
    }
   ],
   "source": [
    "from delta.tables import DeltaTable\n",
    "\n",
    "history_df = DeltaTable.forPath(spark, \"/tmp/delta/cluster\").history()\n",
    "history_df.select(\"version\", \"timestamp\", \"operation\", \"operationParameters\").show(truncate=False)\n"
   ]
  },
  {
   "cell_type": "code",
   "execution_count": 27,
   "id": "412100ee-cec5-4051-9525-c5f60b425f10",
   "metadata": {},
   "outputs": [
    {
     "name": "stdout",
     "output_type": "stream",
     "text": [
      "+------------------------------------+------------------------------+-----------+\n",
      "|cluster_id                          |description                   |protocol_id|\n",
      "+------------------------------------+------------------------------+-----------+\n",
      "|550e8400-e29b-41d4-a716-446655440000|First cluster for test dataset|prot-001   |\n",
      "|123e4567-e89b-12d3-a456-426614174000|Second test cluster           |prot-002   |\n",
      "+------------------------------------+------------------------------+-----------+\n",
      "\n"
     ]
    }
   ],
   "source": [
    "df_v_0 = spark.read.format(\"delta\").option(\"versionAsOf\", 1).load(\"/tmp/delta/cluster\")\n",
    "df_v_0.show(truncate=False)\n"
   ]
  },
  {
   "cell_type": "code",
   "execution_count": 28,
   "id": "12100097-dc74-41af-ad43-86eb01533096",
   "metadata": {},
   "outputs": [
    {
     "ename": "AnalysisException",
     "evalue": "Cannot time travel Delta table to version 2. Available versions: [0, 1].",
     "output_type": "error",
     "traceback": [
      "\u001b[0;31m---------------------------------------------------------------------------\u001b[0m",
      "\u001b[0;31mAnalysisException\u001b[0m                         Traceback (most recent call last)",
      "Cell \u001b[0;32mIn[28], line 1\u001b[0m\n\u001b[0;32m----> 1\u001b[0m df_v_0 \u001b[38;5;241m=\u001b[39m \u001b[43mspark\u001b[49m\u001b[38;5;241;43m.\u001b[39;49m\u001b[43mread\u001b[49m\u001b[38;5;241;43m.\u001b[39;49m\u001b[43mformat\u001b[49m\u001b[43m(\u001b[49m\u001b[38;5;124;43m\"\u001b[39;49m\u001b[38;5;124;43mdelta\u001b[39;49m\u001b[38;5;124;43m\"\u001b[39;49m\u001b[43m)\u001b[49m\u001b[38;5;241;43m.\u001b[39;49m\u001b[43moption\u001b[49m\u001b[43m(\u001b[49m\u001b[38;5;124;43m\"\u001b[39;49m\u001b[38;5;124;43mversionAsOf\u001b[39;49m\u001b[38;5;124;43m\"\u001b[39;49m\u001b[43m,\u001b[49m\u001b[43m \u001b[49m\u001b[38;5;241;43m2\u001b[39;49m\u001b[43m)\u001b[49m\u001b[38;5;241;43m.\u001b[39;49m\u001b[43mload\u001b[49m\u001b[43m(\u001b[49m\u001b[38;5;124;43m\"\u001b[39;49m\u001b[38;5;124;43m/tmp/delta/cluster\u001b[39;49m\u001b[38;5;124;43m\"\u001b[39;49m\u001b[43m)\u001b[49m\n\u001b[1;32m      2\u001b[0m df_v_0\u001b[38;5;241m.\u001b[39mshow(truncate\u001b[38;5;241m=\u001b[39m\u001b[38;5;28;01mFalse\u001b[39;00m)\n",
      "File \u001b[0;32m/usr/local/lib/python3.10/dist-packages/pyspark/sql/readwriter.py:300\u001b[0m, in \u001b[0;36mDataFrameReader.load\u001b[0;34m(self, path, format, schema, **options)\u001b[0m\n\u001b[1;32m    298\u001b[0m \u001b[38;5;28mself\u001b[39m\u001b[38;5;241m.\u001b[39moptions(\u001b[38;5;241m*\u001b[39m\u001b[38;5;241m*\u001b[39moptions)\n\u001b[1;32m    299\u001b[0m \u001b[38;5;28;01mif\u001b[39;00m \u001b[38;5;28misinstance\u001b[39m(path, \u001b[38;5;28mstr\u001b[39m):\n\u001b[0;32m--> 300\u001b[0m     \u001b[38;5;28;01mreturn\u001b[39;00m \u001b[38;5;28mself\u001b[39m\u001b[38;5;241m.\u001b[39m_df(\u001b[38;5;28;43mself\u001b[39;49m\u001b[38;5;241;43m.\u001b[39;49m\u001b[43m_jreader\u001b[49m\u001b[38;5;241;43m.\u001b[39;49m\u001b[43mload\u001b[49m\u001b[43m(\u001b[49m\u001b[43mpath\u001b[49m\u001b[43m)\u001b[49m)\n\u001b[1;32m    301\u001b[0m \u001b[38;5;28;01melif\u001b[39;00m path \u001b[38;5;129;01mis\u001b[39;00m \u001b[38;5;129;01mnot\u001b[39;00m \u001b[38;5;28;01mNone\u001b[39;00m:\n\u001b[1;32m    302\u001b[0m     \u001b[38;5;28;01mif\u001b[39;00m \u001b[38;5;28mtype\u001b[39m(path) \u001b[38;5;241m!=\u001b[39m \u001b[38;5;28mlist\u001b[39m:\n",
      "File \u001b[0;32m/usr/local/lib/python3.10/dist-packages/py4j/java_gateway.py:1322\u001b[0m, in \u001b[0;36mJavaMember.__call__\u001b[0;34m(self, *args)\u001b[0m\n\u001b[1;32m   1316\u001b[0m command \u001b[38;5;241m=\u001b[39m proto\u001b[38;5;241m.\u001b[39mCALL_COMMAND_NAME \u001b[38;5;241m+\u001b[39m\\\n\u001b[1;32m   1317\u001b[0m     \u001b[38;5;28mself\u001b[39m\u001b[38;5;241m.\u001b[39mcommand_header \u001b[38;5;241m+\u001b[39m\\\n\u001b[1;32m   1318\u001b[0m     args_command \u001b[38;5;241m+\u001b[39m\\\n\u001b[1;32m   1319\u001b[0m     proto\u001b[38;5;241m.\u001b[39mEND_COMMAND_PART\n\u001b[1;32m   1321\u001b[0m answer \u001b[38;5;241m=\u001b[39m \u001b[38;5;28mself\u001b[39m\u001b[38;5;241m.\u001b[39mgateway_client\u001b[38;5;241m.\u001b[39msend_command(command)\n\u001b[0;32m-> 1322\u001b[0m return_value \u001b[38;5;241m=\u001b[39m \u001b[43mget_return_value\u001b[49m\u001b[43m(\u001b[49m\n\u001b[1;32m   1323\u001b[0m \u001b[43m    \u001b[49m\u001b[43manswer\u001b[49m\u001b[43m,\u001b[49m\u001b[43m \u001b[49m\u001b[38;5;28;43mself\u001b[39;49m\u001b[38;5;241;43m.\u001b[39;49m\u001b[43mgateway_client\u001b[49m\u001b[43m,\u001b[49m\u001b[43m \u001b[49m\u001b[38;5;28;43mself\u001b[39;49m\u001b[38;5;241;43m.\u001b[39;49m\u001b[43mtarget_id\u001b[49m\u001b[43m,\u001b[49m\u001b[43m \u001b[49m\u001b[38;5;28;43mself\u001b[39;49m\u001b[38;5;241;43m.\u001b[39;49m\u001b[43mname\u001b[49m\u001b[43m)\u001b[49m\n\u001b[1;32m   1325\u001b[0m \u001b[38;5;28;01mfor\u001b[39;00m temp_arg \u001b[38;5;129;01min\u001b[39;00m temp_args:\n\u001b[1;32m   1326\u001b[0m     \u001b[38;5;28;01mif\u001b[39;00m \u001b[38;5;28mhasattr\u001b[39m(temp_arg, \u001b[38;5;124m\"\u001b[39m\u001b[38;5;124m_detach\u001b[39m\u001b[38;5;124m\"\u001b[39m):\n",
      "File \u001b[0;32m/usr/local/lib/python3.10/dist-packages/pyspark/errors/exceptions/captured.py:175\u001b[0m, in \u001b[0;36mcapture_sql_exception.<locals>.deco\u001b[0;34m(*a, **kw)\u001b[0m\n\u001b[1;32m    171\u001b[0m converted \u001b[38;5;241m=\u001b[39m convert_exception(e\u001b[38;5;241m.\u001b[39mjava_exception)\n\u001b[1;32m    172\u001b[0m \u001b[38;5;28;01mif\u001b[39;00m \u001b[38;5;129;01mnot\u001b[39;00m \u001b[38;5;28misinstance\u001b[39m(converted, UnknownException):\n\u001b[1;32m    173\u001b[0m     \u001b[38;5;66;03m# Hide where the exception came from that shows a non-Pythonic\u001b[39;00m\n\u001b[1;32m    174\u001b[0m     \u001b[38;5;66;03m# JVM exception message.\u001b[39;00m\n\u001b[0;32m--> 175\u001b[0m     \u001b[38;5;28;01mraise\u001b[39;00m converted \u001b[38;5;28;01mfrom\u001b[39;00m\u001b[38;5;250m \u001b[39m\u001b[38;5;28;01mNone\u001b[39;00m\n\u001b[1;32m    176\u001b[0m \u001b[38;5;28;01melse\u001b[39;00m:\n\u001b[1;32m    177\u001b[0m     \u001b[38;5;28;01mraise\u001b[39;00m\n",
      "\u001b[0;31mAnalysisException\u001b[0m: Cannot time travel Delta table to version 2. Available versions: [0, 1]."
     ]
    }
   ],
   "source": [
    "df_v_0 = spark.read.format(\"delta\").option(\"versionAsOf\", 2).load(\"/tmp/delta/cluster\")\n",
    "df_v_0.show(truncate=False)\n"
   ]
  },
  {
   "cell_type": "code",
   "execution_count": null,
   "id": "6331c081-07a6-4a72-851e-0fe2d9f8e60c",
   "metadata": {},
   "outputs": [],
   "source": []
  }
 ],
 "metadata": {
  "kernelspec": {
   "display_name": "Python 3 (ipykernel)",
   "language": "python",
   "name": "python3"
  },
  "language_info": {
   "codemirror_mode": {
    "name": "ipython",
    "version": 3
   },
   "file_extension": ".py",
   "mimetype": "text/x-python",
   "name": "python",
   "nbconvert_exporter": "python",
   "pygments_lexer": "ipython3",
   "version": "3.10.12"
  }
 },
 "nbformat": 4,
 "nbformat_minor": 5
}
