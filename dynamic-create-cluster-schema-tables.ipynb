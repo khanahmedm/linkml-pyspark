{
 "cells": [
  {
   "cell_type": "code",
   "execution_count": 1,
   "id": "c15cc7f1-2f5c-4952-8e81-2971e8cf2c4a",
   "metadata": {},
   "outputs": [
    {
     "name": "stdout",
     "output_type": "stream",
     "text": [
      ":: loading settings :: url = jar:file:/opt/spark-3.4.1-bin-hadoop3/jars/ivy-2.5.1.jar!/org/apache/ivy/core/settings/ivysettings.xml\n"
     ]
    },
    {
     "name": "stderr",
     "output_type": "stream",
     "text": [
      "Ivy Default Cache set to: /root/.ivy2/cache\n",
      "The jars for the packages stored in: /root/.ivy2/jars\n",
      "io.delta#delta-core_2.12 added as a dependency\n",
      ":: resolving dependencies :: org.apache.spark#spark-submit-parent-8efc6112-f271-4faf-8be2-1311a3220a00;1.0\n",
      "\tconfs: [default]\n",
      "\tfound io.delta#delta-core_2.12;2.4.0 in central\n",
      "\tfound io.delta#delta-storage;2.4.0 in central\n",
      "\tfound org.antlr#antlr4-runtime;4.9.3 in central\n",
      ":: resolution report :: resolve 261ms :: artifacts dl 12ms\n",
      "\t:: modules in use:\n",
      "\tio.delta#delta-core_2.12;2.4.0 from central in [default]\n",
      "\tio.delta#delta-storage;2.4.0 from central in [default]\n",
      "\torg.antlr#antlr4-runtime;4.9.3 from central in [default]\n",
      "\t---------------------------------------------------------------------\n",
      "\t|                  |            modules            ||   artifacts   |\n",
      "\t|       conf       | number| search|dwnlded|evicted|| number|dwnlded|\n",
      "\t---------------------------------------------------------------------\n",
      "\t|      default     |   3   |   0   |   0   |   0   ||   3   |   0   |\n",
      "\t---------------------------------------------------------------------\n",
      ":: retrieving :: org.apache.spark#spark-submit-parent-8efc6112-f271-4faf-8be2-1311a3220a00\n",
      "\tconfs: [default]\n",
      "\t0 artifacts copied, 3 already retrieved (0kB/8ms)\n",
      "25/05/20 15:05:49 WARN NativeCodeLoader: Unable to load native-hadoop library for your platform... using builtin-java classes where applicable\n",
      "Setting default log level to \"WARN\".\n",
      "To adjust logging level use sc.setLogLevel(newLevel). For SparkR, use setLogLevel(newLevel).\n"
     ]
    },
    {
     "name": "stdout",
     "output_type": "stream",
     "text": [
      "Creating Delta table for: Cluster\n"
     ]
    },
    {
     "name": "stderr",
     "output_type": "stream",
     "text": [
      "25/05/20 15:06:08 WARN package: Truncated the string representation of a plan since it was too large. This behavior can be adjusted by setting 'spark.sql.debug.maxToStringFields'.\n",
      "                                                                                "
     ]
    },
    {
     "name": "stdout",
     "output_type": "stream",
     "text": [
      "✔️  Delta table created at: /tmp/delta/Cluster\n",
      "Creating Delta table for: Cluster_X_Protein\n"
     ]
    },
    {
     "name": "stderr",
     "output_type": "stream",
     "text": [
      "[Stage 12:===================================================>    (46 + 2) / 50]"
     ]
    },
    {
     "name": "stdout",
     "output_type": "stream",
     "text": [
      "✔️  Delta table created at: /tmp/delta/Cluster_X_Protein\n"
     ]
    },
    {
     "name": "stderr",
     "output_type": "stream",
     "text": [
      "                                                                                "
     ]
    }
   ],
   "source": [
    "from pyspark.sql import SparkSession\n",
    "from pyspark.sql.types import StructType, StructField, StringType, FloatType\n",
    "from linkml_runtime.utils.schemaview import SchemaView\n",
    "from delta import configure_spark_with_delta_pip\n",
    "\n",
    "# ---------- Configuration ----------\n",
    "schema_file = \"cluster-schema.yaml\"\n",
    "output_base_path = \"/tmp/delta\"\n",
    "\n",
    "# ---------- Range-to-Type Mapper ----------\n",
    "def map_range_to_spark_type(slot_range: str, multivalued: bool = False):\n",
    "    type_map = {\n",
    "        \"string\": StringType(),\n",
    "        \"float\": FloatType(),\n",
    "        \"UUID\": StringType(),\n",
    "    }\n",
    "    return type_map.get(slot_range, StringType())\n",
    "\n",
    "# ---------- Schema Generator ----------\n",
    "def get_spark_schema_for_class(sv, class_name: str):\n",
    "    slots = sv.class_induced_slots(class_name)\n",
    "    fields = [\n",
    "        StructField(slot.name, map_range_to_spark_type(slot.range, slot.multivalued), not slot.required)\n",
    "        for slot in slots\n",
    "    ]\n",
    "    return StructType(fields)\n",
    "\n",
    "# ---------- Initialize Spark ----------\n",
    "builder = SparkSession.builder \\\n",
    "    .appName(\"LinkML to Delta\") \\\n",
    "    .config(\"spark.sql.extensions\", \"io.delta.sql.DeltaSparkSessionExtension\") \\\n",
    "    .config(\"spark.sql.catalog.spark_catalog\", \"org.apache.spark.sql.delta.catalog.DeltaCatalog\")\n",
    "spark = configure_spark_with_delta_pip(builder).getOrCreate()\n",
    "\n",
    "# ---------- Load Schema ----------\n",
    "sv = SchemaView(schema_file)\n",
    "all_classes = sv.all_classes()\n",
    "\n",
    "# ---------- Iterate and Create Delta Tables ----------\n",
    "for class_name in all_classes:\n",
    "    schema = get_spark_schema_for_class(sv, class_name)\n",
    "    class_obj = sv.get_class(class_name)\n",
    "\n",
    "    # You can generate dummy or empty data for each table\n",
    "    print(f\"Creating Delta table for: {class_name}\")\n",
    "    \n",
    "    # Create empty DataFrame for now\n",
    "    df = spark.createDataFrame([], schema=schema)\n",
    "\n",
    "    # Save as Delta table\n",
    "    delta_path = f\"{output_base_path}/{class_name}\"\n",
    "    df.write.format(\"delta\").mode(\"overwrite\").save(delta_path)\n",
    "\n",
    "    print(f\"✔️  Delta table created at: {delta_path}\")\n"
   ]
  },
  {
   "cell_type": "code",
   "execution_count": 2,
   "id": "4edc7779-b04a-462a-8848-d1985db7b19c",
   "metadata": {},
   "outputs": [
    {
     "name": "stderr",
     "output_type": "stream",
     "text": [
      "25/05/20 15:16:52 WARN SparkSession: Using an existing Spark session; only runtime SQL configurations will take effect.\n"
     ]
    },
    {
     "name": "stdout",
     "output_type": "stream",
     "text": [
      "\n",
      "▶️ Processing class: Cluster\n",
      "🔍 Schema:\n",
      "  - cluster_id: StringType()\n",
      "  - description: StringType()\n",
      "  - protocol_id: StringType()\n"
     ]
    },
    {
     "name": "stderr",
     "output_type": "stream",
     "text": [
      "                                                                                "
     ]
    },
    {
     "name": "stdout",
     "output_type": "stream",
     "text": [
      "✅ Delta table created at /tmp/delta/Cluster\n",
      "📄 Table Content:\n"
     ]
    },
    {
     "name": "stderr",
     "output_type": "stream",
     "text": [
      "                                                                                "
     ]
    },
    {
     "name": "stdout",
     "output_type": "stream",
     "text": [
      "+--------------+-----------------+-----------------+\n",
      "|    cluster_id|      description|      protocol_id|\n",
      "+--------------+-----------------+-----------------+\n",
      "|cluster_id_001|dummy_description|dummy_protocol_id|\n",
      "+--------------+-----------------+-----------------+\n",
      "\n",
      "\n",
      "▶️ Processing class: Cluster_X_Protein\n",
      "🔍 Schema:\n",
      "  - cluster_id: StringType()\n",
      "  - protein_id: StringType()\n",
      "  - score: FloatType()\n"
     ]
    },
    {
     "name": "stderr",
     "output_type": "stream",
     "text": [
      "                                                                                "
     ]
    },
    {
     "name": "stdout",
     "output_type": "stream",
     "text": [
      "✅ Delta table created at /tmp/delta/Cluster_X_Protein\n",
      "📄 Table Content:\n"
     ]
    },
    {
     "name": "stderr",
     "output_type": "stream",
     "text": [
      "[Stage 40:=======================================>                (35 + 2) / 50]"
     ]
    },
    {
     "name": "stdout",
     "output_type": "stream",
     "text": [
      "+--------------+--------------+-----+\n",
      "|    cluster_id|    protein_id|score|\n",
      "+--------------+--------------+-----+\n",
      "|cluster_id_001|protein_id_001|  0.5|\n",
      "+--------------+--------------+-----+\n",
      "\n"
     ]
    },
    {
     "name": "stderr",
     "output_type": "stream",
     "text": [
      "                                                                                "
     ]
    }
   ],
   "source": [
    "from pyspark.sql import SparkSession\n",
    "from pyspark.sql.types import StructType, StructField, StringType, FloatType\n",
    "from linkml_runtime.utils.schemaview import SchemaView\n",
    "from delta import configure_spark_with_delta_pip\n",
    "\n",
    "# ---------- Configuration ----------\n",
    "schema_file = \"cluster-schema.yaml\"\n",
    "output_base_path = \"/tmp/delta\"\n",
    "\n",
    "# ---------- Map LinkML types to Spark types ----------\n",
    "def map_range_to_spark_type(slot_range: str, multivalued: bool = False):\n",
    "    type_map = {\n",
    "        \"string\": StringType(),\n",
    "        \"float\": FloatType(),\n",
    "        \"UUID\": StringType(),\n",
    "    }\n",
    "    return type_map.get(slot_range, StringType())\n",
    "\n",
    "# ---------- Get Spark schema from LinkML class ----------\n",
    "def get_spark_schema_for_class(sv, class_name: str):\n",
    "    slots = sv.class_induced_slots(class_name)\n",
    "    fields = [\n",
    "        StructField(slot.name, map_range_to_spark_type(slot.range, slot.multivalued), not slot.required)\n",
    "        for slot in slots\n",
    "    ]\n",
    "    return StructType(fields), slots\n",
    "\n",
    "# ---------- Create dummy data row ----------\n",
    "def generate_dummy_row(slots):\n",
    "    dummy_row = []\n",
    "    for slot in slots:\n",
    "        if slot.range == \"UUID\":\n",
    "            dummy_row.append(f\"{slot.name}_001\")\n",
    "        elif slot.range == \"float\":\n",
    "            dummy_row.append(0.5)\n",
    "        else:\n",
    "            dummy_row.append(f\"dummy_{slot.name}\")\n",
    "    return tuple(dummy_row)\n",
    "\n",
    "# ---------- Initialize Spark ----------\n",
    "builder = SparkSession.builder \\\n",
    "    .appName(\"LinkML Delta Tables\") \\\n",
    "    .config(\"spark.sql.extensions\", \"io.delta.sql.DeltaSparkSessionExtension\") \\\n",
    "    .config(\"spark.sql.catalog.spark_catalog\", \"org.apache.spark.sql.delta.catalog.DeltaCatalog\")\n",
    "spark = configure_spark_with_delta_pip(builder).getOrCreate()\n",
    "\n",
    "# ---------- Load LinkML Schema ----------\n",
    "sv = SchemaView(schema_file)\n",
    "all_classes = sv.all_classes()\n",
    "\n",
    "# ---------- Process Each Class ----------\n",
    "for class_name in all_classes:\n",
    "    print(f\"\\n▶️ Processing class: {class_name}\")\n",
    "    schema, slots = get_spark_schema_for_class(sv, class_name)\n",
    "\n",
    "    # Show inferred schema\n",
    "    print(\"🔍 Schema:\")\n",
    "    for field in schema.fields:\n",
    "        print(f\"  - {field.name}: {field.dataType}\")\n",
    "\n",
    "    # Create DataFrame with dummy row\n",
    "    dummy_row = generate_dummy_row(slots)\n",
    "    df = spark.createDataFrame([dummy_row], schema=schema)\n",
    "\n",
    "    # Save to Delta\n",
    "    delta_path = f\"{output_base_path}/{class_name}\"\n",
    "    df.write.format(\"delta\").mode(\"overwrite\").save(delta_path)\n",
    "    print(f\"✅ Delta table created at {delta_path}\")\n",
    "\n",
    "    # Read and show table content\n",
    "    print(\"📄 Table Content:\")\n",
    "    df_read = spark.read.format(\"delta\").load(delta_path)\n",
    "    df_read.show()\n"
   ]
  },
  {
   "cell_type": "code",
   "execution_count": null,
   "id": "8fad4b05-29f9-4bbc-a9bb-297003f4aae3",
   "metadata": {},
   "outputs": [],
   "source": []
  }
 ],
 "metadata": {
  "kernelspec": {
   "display_name": "Python 3 (ipykernel)",
   "language": "python",
   "name": "python3"
  },
  "language_info": {
   "codemirror_mode": {
    "name": "ipython",
    "version": 3
   },
   "file_extension": ".py",
   "mimetype": "text/x-python",
   "name": "python",
   "nbconvert_exporter": "python",
   "pygments_lexer": "ipython3",
   "version": "3.10.12"
  }
 },
 "nbformat": 4,
 "nbformat_minor": 5
}
