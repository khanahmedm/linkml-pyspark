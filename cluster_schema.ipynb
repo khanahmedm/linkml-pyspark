{
 "cells": [
  {
   "cell_type": "code",
   "execution_count": 2,
   "id": "e72b98e6-bcdb-4193-bbe6-1b8084a4ffae",
   "metadata": {},
   "outputs": [],
   "source": [
    "from linkml_runtime.utils.schemaview import SchemaView\n",
    "from pyspark.sql.types import StructType, StructField, StringType, FloatType\n",
    "from pyspark.sql import SparkSession\n",
    "from delta import configure_spark_with_delta_pip\n",
    "import os"
   ]
  },
  {
   "cell_type": "code",
   "execution_count": 3,
   "id": "2385e10a-a534-4782-8e95-eb7db0b7fe3a",
   "metadata": {},
   "outputs": [
    {
     "name": "stdout",
     "output_type": "stream",
     "text": [
      ":: loading settings :: url = jar:file:/opt/spark-3.4.1-bin-hadoop3/jars/ivy-2.5.1.jar!/org/apache/ivy/core/settings/ivysettings.xml\n"
     ]
    },
    {
     "name": "stderr",
     "output_type": "stream",
     "text": [
      "Ivy Default Cache set to: /root/.ivy2/cache\n",
      "The jars for the packages stored in: /root/.ivy2/jars\n",
      "io.delta#delta-core_2.12 added as a dependency\n",
      ":: resolving dependencies :: org.apache.spark#spark-submit-parent-abe2678b-90a5-419e-bf8f-ab47db38d9a1;1.0\n",
      "\tconfs: [default]\n",
      "\tfound io.delta#delta-core_2.12;2.4.0 in central\n",
      "\tfound io.delta#delta-storage;2.4.0 in central\n",
      "\tfound org.antlr#antlr4-runtime;4.9.3 in central\n",
      ":: resolution report :: resolve 328ms :: artifacts dl 7ms\n",
      "\t:: modules in use:\n",
      "\tio.delta#delta-core_2.12;2.4.0 from central in [default]\n",
      "\tio.delta#delta-storage;2.4.0 from central in [default]\n",
      "\torg.antlr#antlr4-runtime;4.9.3 from central in [default]\n",
      "\t---------------------------------------------------------------------\n",
      "\t|                  |            modules            ||   artifacts   |\n",
      "\t|       conf       | number| search|dwnlded|evicted|| number|dwnlded|\n",
      "\t---------------------------------------------------------------------\n",
      "\t|      default     |   3   |   0   |   0   |   0   ||   3   |   0   |\n",
      "\t---------------------------------------------------------------------\n",
      ":: retrieving :: org.apache.spark#spark-submit-parent-abe2678b-90a5-419e-bf8f-ab47db38d9a1\n",
      "\tconfs: [default]\n",
      "\t0 artifacts copied, 3 already retrieved (0kB/17ms)\n",
      "25/05/18 19:33:36 WARN NativeCodeLoader: Unable to load native-hadoop library for your platform... using builtin-java classes where applicable\n",
      "Setting default log level to \"WARN\".\n",
      "To adjust logging level use sc.setLogLevel(newLevel). For SparkR, use setLogLevel(newLevel).\n",
      "25/05/18 19:33:38 WARN Utils: Service 'SparkUI' could not bind on port 4040. Attempting port 4041.\n",
      "25/05/18 19:33:38 WARN Utils: Service 'SparkUI' could not bind on port 4041. Attempting port 4042.\n",
      "25/05/18 19:33:50 WARN package: Truncated the string representation of a plan since it was too large. This behavior can be adjusted by setting 'spark.sql.debug.maxToStringFields'.\n",
      "                                                                                "
     ]
    }
   ],
   "source": [
    "\n",
    "\n",
    "def map_range_to_spark_type(slot_range: str, multivalued: bool = False):\n",
    "    \"\"\"Map LinkML range to Spark type. Extend this as needed.\"\"\"\n",
    "    type_map = {\n",
    "        \"string\": StringType(),\n",
    "        \"float\": FloatType(),\n",
    "        \"UUID\": StringType(),  # Spark doesn't have a UUIDType, use StringType\n",
    "    }\n",
    "    spark_type = type_map.get(slot_range, StringType())\n",
    "    return spark_type\n",
    "\n",
    "def get_spark_schema_for_class(sv, class_name: str):\n",
    "    slots = sv.class_induced_slots(class_name)\n",
    "    fields = [\n",
    "        StructField(slot.name, map_range_to_spark_type(slot.range, slot.multivalued), not slot.required)\n",
    "        for slot in slots\n",
    "    ]\n",
    "    return StructType(fields)\n",
    "\n",
    "# Load the LinkML schema\n",
    "sv = SchemaView(\"cluster-schema.yaml\")\n",
    "\n",
    "# Initialize Spark with Delta support\n",
    "builder = SparkSession.builder \\\n",
    "    .appName(\"EcommerceSchema to Delta\") \\\n",
    "    .config(\"spark.sql.extensions\", \"io.delta.sql.DeltaSparkSessionExtension\") \\\n",
    "    .config(\"spark.sql.catalog.spark_catalog\", \"org.apache.spark.sql.delta.catalog.DeltaCatalog\")\n",
    "spark = configure_spark_with_delta_pip(builder).getOrCreate()\n",
    "\n",
    "# ---------------------\n",
    "# Create `Cluster` table\n",
    "cluster_schema = get_spark_schema_for_class(sv, \"Cluster\")\n",
    "cluster_data = [(\"c001\", \"Cluster generated using protocol X\", \"prot001\")]\n",
    "df_cluster = spark.createDataFrame(cluster_data, schema=cluster_schema)\n",
    "df_cluster.write.format(\"delta\").mode(\"overwrite\").save(\"/tmp/delta/Cluster\")\n",
    "\n",
    "# ---------------------\n",
    "# Create `Cluster_X_Protein` table\n",
    "cxp_schema = get_spark_schema_for_class(sv, \"Cluster_X_Protein\")\n",
    "cxp_data = [(\"c001\", \"p001\", 0.98), (\"c001\", \"p002\", 0.75)]\n",
    "df_cxp = spark.createDataFrame(cxp_data, schema=cxp_schema)\n",
    "df_cxp.write.format(\"delta\").mode(\"overwrite\").save(\"/tmp/delta/Cluster_X_Protein\")\n"
   ]
  },
  {
   "cell_type": "code",
   "execution_count": 4,
   "id": "ae48e22a-93ac-4927-909b-e4f772ca8718",
   "metadata": {},
   "outputs": [
    {
     "name": "stdout",
     "output_type": "stream",
     "text": [
      "=== Cluster Schema ===\n",
      "root\n",
      " |-- cluster_id: string (nullable = true)\n",
      " |-- description: string (nullable = true)\n",
      " |-- protocol_id: string (nullable = true)\n",
      "\n",
      "=== Cluster Data ===\n"
     ]
    },
    {
     "name": "stderr",
     "output_type": "stream",
     "text": [
      "                                                                                "
     ]
    },
    {
     "name": "stdout",
     "output_type": "stream",
     "text": [
      "+----------+----------------------------------+-----------+\n",
      "|cluster_id|description                       |protocol_id|\n",
      "+----------+----------------------------------+-----------+\n",
      "|c001      |Cluster generated using protocol X|prot001    |\n",
      "+----------+----------------------------------+-----------+\n",
      "\n",
      "=== Cluster_X_Protein Schema ===\n",
      "root\n",
      " |-- cluster_id: string (nullable = true)\n",
      " |-- protein_id: string (nullable = true)\n",
      " |-- score: float (nullable = true)\n",
      "\n",
      "=== Cluster_X_Protein Data ===\n"
     ]
    },
    {
     "name": "stderr",
     "output_type": "stream",
     "text": [
      "                                                                                "
     ]
    },
    {
     "name": "stdout",
     "output_type": "stream",
     "text": [
      "+----------+----------+-----+\n",
      "|cluster_id|protein_id|score|\n",
      "+----------+----------+-----+\n",
      "|c001      |p001      |0.98 |\n",
      "|c001      |p002      |0.75 |\n",
      "+----------+----------+-----+\n",
      "\n"
     ]
    }
   ],
   "source": [
    "# Read the Cluster Delta table\n",
    "df_cluster = spark.read.format(\"delta\").load(\"/tmp/delta/Cluster\")\n",
    "print(\"=== Cluster Schema ===\")\n",
    "df_cluster.printSchema()\n",
    "\n",
    "print(\"=== Cluster Data ===\")\n",
    "df_cluster.show(truncate=False)\n",
    "\n",
    "# Read the Cluster_X_Protein Delta table\n",
    "df_cxp = spark.read.format(\"delta\").load(\"/tmp/delta/Cluster_X_Protein\")\n",
    "print(\"=== Cluster_X_Protein Schema ===\")\n",
    "df_cxp.printSchema()\n",
    "\n",
    "print(\"=== Cluster_X_Protein Data ===\")\n",
    "df_cxp.show(truncate=False)\n"
   ]
  },
  {
   "cell_type": "code",
   "execution_count": null,
   "id": "55daa8f4-0c9e-4341-9e17-48500360e8f5",
   "metadata": {},
   "outputs": [],
   "source": []
  }
 ],
 "metadata": {
  "kernelspec": {
   "display_name": "Python 3 (ipykernel)",
   "language": "python",
   "name": "python3"
  },
  "language_info": {
   "codemirror_mode": {
    "name": "ipython",
    "version": 3
   },
   "file_extension": ".py",
   "mimetype": "text/x-python",
   "name": "python",
   "nbconvert_exporter": "python",
   "pygments_lexer": "ipython3",
   "version": "3.10.12"
  }
 },
 "nbformat": 4,
 "nbformat_minor": 5
}
